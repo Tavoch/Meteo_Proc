{
 "cells": [
  {
   "cell_type": "code",
   "execution_count": 1,
   "id": "9c55609e-0fb2-4ecf-adf9-769d870052d4",
   "metadata": {},
   "outputs": [],
   "source": [
    "import pandas as pd\n",
    "import glob\n",
    "import os\n",
    "from tqdm import tqdm  # Importar tqdm"
   ]
  },
  {
   "cell_type": "code",
   "execution_count": null,
   "id": "98dd727f-6740-4002-9266-aebb967cbdde",
   "metadata": {},
   "outputs": [],
   "source": [
    "# Obtener la lista de todos los archivos CSV en la carpeta\n",
    "file_list = glob.glob('C:/Temp/obser/*.csv')  # Ruta actualizada a C:/Temp/obser/\n",
    "\n",
    "# Crear un diccionario para almacenar los datos filtrados por año\n",
    "data_by_year = {}\n",
    "\n",
    "# Usar tqdm para iterar sobre cada archivo CSV y mostrar el progreso\n",
    "for file in tqdm(file_list, desc=\"Procesando archivos\"):\n",
    "    # Leer el archivo CSV\n",
    "    data = pd.read_csv(file)\n",
    "    \n",
    "    # Obtener el año del nombre del archivo\n",
    "    file_name = os.path.basename(file)\n",
    "    year = file_name.split('_')[1]  # Suponiendo que el año está en el nombre del archivo, separado por '_'\n",
    "\n",
    "\n",
    "    # Realizar la transformación de comas a punto y coma y luego de punto a coma en todas las celdas\n",
    "    data = data.applymap(lambda x: str(x).replace(',', ';').replace('.', ','))\n",
    "\n",
    "    # Filtrar los registros con thing_id igual a 29 después de la transformación\n",
    "    filtered_rows = data[data['thing_id'] == '29']\n",
    "\n",
    "    # Agregar los registros filtrados al diccionario 'data_by_year' usando el año como clave\n",
    "    if year in data_by_year:\n",
    "        data_by_year[year].append(filtered_rows)\n",
    "    else:\n",
    "        data_by_year[year] = [filtered_rows]\n",
    "\n",
    "# Guardar los datos filtrados por año en archivos separados\n",
    "for year, data_frames in data_by_year.items():\n",
    "    # Combinar todos los registros filtrados por año en un solo DataFrame\n",
    "    result = pd.concat(data_frames)\n",
    "    \n",
    "    # Guardar el resultado en un nuevo archivo CSV para cada año\n",
    "    file_name = f'C:/Temp/obser/R1/resultados_thing_id_29_{year}'  # Ruta completa con el nombre del archivo\n",
    "    result.to_csv(file_name, index=False, sep=';')  # Se define el separador como punto y coma"
   ]
  }
 ],
 "metadata": {
  "kernelspec": {
   "display_name": "Python 3 (ipykernel)",
   "language": "python",
   "name": "python3"
  },
  "language_info": {
   "codemirror_mode": {
    "name": "ipython",
    "version": 3
   },
   "file_extension": ".py",
   "mimetype": "text/x-python",
   "name": "python",
   "nbconvert_exporter": "python",
   "pygments_lexer": "ipython3",
   "version": "3.12.0"
  }
 },
 "nbformat": 4,
 "nbformat_minor": 5
}
